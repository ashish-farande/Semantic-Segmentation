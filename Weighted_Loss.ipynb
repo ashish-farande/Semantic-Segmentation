{
 "cells": [
  {
   "cell_type": "code",
   "execution_count": null,
   "metadata": {
    "collapsed": true
   },
   "outputs": [],
   "source": [
    "\n",
    "from basic_fcn import *\n",
    "from ModelHandler import *\n",
    "\n",
    "config = load_config('./config.yaml')\n",
    "config['model_name'] = \"Weighted_loss\"\n",
    "config['color_jitter'] = False\n",
    "\n",
    "model = FCN(n_class=10)\n",
    "handler = ModelHandler(model, config, weighted=True)\n",
    "\n",
    "# Train plots the loss curve and saves it to a folder created dedicated to this model handler\n",
    "handler.train(100) ## Returns Train loss, Validation Loss, Val IOU Score, Val Pixel Accuracy\n",
    "\n",
    "IoU, pixel_acc = handler.test()\n",
    "print(IoU, pixel_acc)\n",
    "\n",
    "## You can reuse the model handler by changing the model using set_model method\n"
   ]
  }
 ],
 "metadata": {
  "kernelspec": {
   "display_name": "Python 3",
   "language": "python",
   "name": "python3"
  },
  "language_info": {
   "codemirror_mode": {
    "name": "ipython",
    "version": 2
   },
   "file_extension": ".py",
   "mimetype": "text/x-python",
   "name": "python",
   "nbconvert_exporter": "python",
   "pygments_lexer": "ipython2",
   "version": "2.7.6"
  }
 },
 "nbformat": 4,
 "nbformat_minor": 0
}