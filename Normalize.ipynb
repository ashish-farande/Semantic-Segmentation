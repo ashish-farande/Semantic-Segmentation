{
 "cells": [
  {
   "cell_type": "code",
   "execution_count": 1,
   "id": "93baa283",
   "metadata": {},
   "outputs": [],
   "source": [
    "from basic_fcn import *\n",
    "from ModelHandler import *\n",
    "config = load_config('./config.yaml')\n",
    "config['batch_size']=1\n",
    "config['model_name']='both_flip'\n",
    "model = FCN(n_class = 10)\n",
    "handler = ModelHandler(model, config)\n",
    "\n"
   ]
  },
  {
   "cell_type": "code",
   "execution_count": 21,
   "id": "3df033ef",
   "metadata": {},
   "outputs": [],
   "source": [
    "import torch\n",
    "#calculate, mean,std for input3 channels\n",
    "all_mean = []\n",
    "all_std = []\n",
    "with torch.no_grad():  # we don't need to calculate the gradient in the validation/testing\n",
    "    for iter, (input, label) in enumerate(handler.test_loader):\n",
    "        # both inputs and labels have to reside in the same device as the model's\n",
    "        channel1_mean = torch.mean(input[:,0,:,:]).item()\n",
    "        channel2_mean = torch.mean(input[:,1,:,:]).item()\n",
    "        channel3_mean = torch.mean(input[:,2,:,:]).item()\n",
    "        \n",
    "        channel1_std = torch.std(input[:,0,:,:]).item()\n",
    "        channel2_std = torch.std(input[:,1,:,:]).item()\n",
    "        channel3_std = torch.std(input[:,2,:,:]).item()\n",
    "        \n",
    "        all_mean.append([channel1_mean, channel2_mean,channel3_mean])\n",
    "        all_std.append([channel1_std, channel2_std,channel3_std])\n",
    "        \n",
    "        "
   ]
  },
  {
   "cell_type": "code",
   "execution_count": 23,
   "id": "4d378bdb",
   "metadata": {},
   "outputs": [
    {
     "data": {
      "text/plain": [
       "array([1.10600361, 1.13916147, 1.15539613])"
      ]
     },
     "execution_count": 23,
     "metadata": {},
     "output_type": "execute_result"
    }
   ],
   "source": [
    "np.mean(np.array(all_std), axis = 0)"
   ]
  },
  {
   "cell_type": "code",
   "execution_count": 24,
   "id": "44781627",
   "metadata": {},
   "outputs": [
    {
     "data": {
      "text/plain": [
       "array([-0.24527167, -0.11345779,  0.05439441])"
      ]
     },
     "execution_count": 24,
     "metadata": {},
     "output_type": "execute_result"
    }
   ],
   "source": [
    "np.mean(np.array(all_mean), axis = 0)"
   ]
  },
  {
   "cell_type": "code",
   "execution_count": 19,
   "id": "a2f50c47",
   "metadata": {},
   "outputs": [],
   "source": [
    "channel1_mean = torch.mean(input[:,0,:,:]).item()\n"
   ]
  },
  {
   "cell_type": "code",
   "execution_count": 30,
   "id": "ebe4b64f",
   "metadata": {},
   "outputs": [
    {
     "data": {
      "text/plain": [
       "array([-1.5870366, -1.6041614, -1.6212862, ..., -1.7582842, -1.7411594,\n",
       "       -1.7240347], dtype=float32)"
      ]
     },
     "execution_count": 30,
     "metadata": {},
     "output_type": "execute_result"
    }
   ],
   "source": []
  },
  {
   "cell_type": "code",
   "execution_count": 20,
   "id": "d950ad02",
   "metadata": {},
   "outputs": [
    {
     "data": {
      "text/plain": [
       "-0.18895071744918823"
      ]
     },
     "execution_count": 20,
     "metadata": {},
     "output_type": "execute_result"
    }
   ],
   "source": [
    "channel1_mean"
   ]
  },
  {
   "cell_type": "code",
   "execution_count": 15,
   "id": "e00f66bf",
   "metadata": {},
   "outputs": [
    {
     "data": {
      "text/plain": [
       "[[tensor(1.2927), tensor(1.3052), tensor(1.2551)],\n",
       " [tensor(1.4248), tensor(1.4593), tensor(1.5244)],\n",
       " [tensor(1.0885), tensor(1.0651), tensor(1.1047)],\n",
       " [tensor(0.9926), tensor(1.1047), tensor(1.1881)],\n",
       " [tensor(1.0674), tensor(1.0934), tensor(1.0331)],\n",
       " [tensor(1.0348), tensor(0.9804), tensor(0.9462)],\n",
       " [tensor(1.2500), tensor(1.2782), tensor(1.3407)],\n",
       " [tensor(1.1161), tensor(1.1289), tensor(1.1661)],\n",
       " [tensor(1.2163), tensor(1.2392), tensor(1.1403)],\n",
       " [tensor(0.9111), tensor(0.8909), tensor(0.9163)],\n",
       " [tensor(1.2050), tensor(1.2723), tensor(1.3086)],\n",
       " [tensor(1.2625), tensor(1.2967), tensor(1.2731)],\n",
       " [tensor(1.2805), tensor(1.2899), tensor(1.2410)],\n",
       " [tensor(1.2332), tensor(1.1862), tensor(1.1333)],\n",
       " [tensor(1.2853), tensor(1.2874), tensor(1.3464)],\n",
       " [tensor(1.0874), tensor(1.0815), tensor(1.0991)],\n",
       " [tensor(0.9459), tensor(0.9944), tensor(1.0061)],\n",
       " [tensor(1.3302), tensor(1.4071), tensor(1.4157)],\n",
       " [tensor(1.2772), tensor(1.3088), tensor(1.3487)],\n",
       " [tensor(1.2288), tensor(1.3270), tensor(1.4034)],\n",
       " [tensor(1.1420), tensor(1.2418), tensor(1.3061)],\n",
       " [tensor(1.0516), tensor(1.0640), tensor(1.0950)],\n",
       " [tensor(1.0991), tensor(1.1281), tensor(1.0594)],\n",
       " [tensor(1.0574), tensor(1.0842), tensor(1.0829)],\n",
       " [tensor(0.9305), tensor(1.1366), tensor(1.1784)],\n",
       " [tensor(0.9353), tensor(0.9093), tensor(0.8185)],\n",
       " [tensor(0.9864), tensor(1.0136), tensor(1.0313)],\n",
       " [tensor(1.2241), tensor(1.2414), tensor(1.2955)],\n",
       " [tensor(0.9350), tensor(1.0002), tensor(1.0367)],\n",
       " [tensor(1.1723), tensor(1.1590), tensor(1.1348)],\n",
       " [tensor(0.9786), tensor(0.9563), tensor(0.9062)],\n",
       " [tensor(1.2236), tensor(1.2235), tensor(1.1836)],\n",
       " [tensor(1.3215), tensor(1.3191), tensor(1.3510)],\n",
       " [tensor(0.7211), tensor(0.7362), tensor(0.7527)],\n",
       " [tensor(1.0576), tensor(1.0526), tensor(1.1187)]]"
      ]
     },
     "execution_count": 15,
     "metadata": {},
     "output_type": "execute_result"
    }
   ],
   "source": [
    "all_std.item"
   ]
  },
  {
   "cell_type": "code",
   "execution_count": 12,
   "id": "4387c90c",
   "metadata": {},
   "outputs": [
    {
     "data": {
      "text/plain": [
       "tensor(0.4725)"
      ]
     },
     "execution_count": 12,
     "metadata": {},
     "output_type": "execute_result"
    }
   ],
   "source": [
    "channel2_mean"
   ]
  },
  {
   "cell_type": "code",
   "execution_count": 13,
   "id": "9c1bf396",
   "metadata": {},
   "outputs": [
    {
     "data": {
      "text/plain": [
       "tensor(0.6077)"
      ]
     },
     "execution_count": 13,
     "metadata": {},
     "output_type": "execute_result"
    }
   ],
   "source": [
    "channel3_mean"
   ]
  },
  {
   "cell_type": "code",
   "execution_count": null,
   "id": "c8d84dc1",
   "metadata": {},
   "outputs": [],
   "source": []
  },
  {
   "cell_type": "code",
   "execution_count": null,
   "id": "5b8a2567",
   "metadata": {},
   "outputs": [],
   "source": []
  }
 ],
 "metadata": {
  "kernelspec": {
   "display_name": "Python 3 (clean)",
   "language": "python",
   "name": "python3_clean"
  },
  "language_info": {
   "codemirror_mode": {
    "name": "ipython",
    "version": 3
   },
   "file_extension": ".py",
   "mimetype": "text/x-python",
   "name": "python",
   "nbconvert_exporter": "python",
   "pygments_lexer": "ipython3",
   "version": "3.9.5"
  }
 },
 "nbformat": 4,
 "nbformat_minor": 5
}
