{
 "cells": [
  {
   "cell_type": "code",
   "execution_count": null,
   "metadata": {
    "collapsed": true,
    "pycharm": {
     "name": "#%%\n"
    }
   },
   "outputs": [],
   "source": [
    "from basic_fcn import *\n",
    "from ModelHandler import *\n",
    "\n",
    "config = load_config('./config.yaml')\n",
    "config['model_name'] = \"Example_Model\"\n",
    "\n",
    "model = FCN(n_class=10)\n",
    "handler = ModelHandler(model, config)\n",
    "\n",
    "# Train plots the loss curve and saves it to a folder created dedicated to this model handler\n",
    "handler.train(10) ## Returns Train loss, Validation Loss, Val IOU Score, Val Pixel Accuracy\n",
    "\n",
    "IoU, pixel_acc = handler.test()\n",
    "print(IoU, pixel_acc)\n",
    "\n",
    "## You can reuse the model handler by changing the model using set_model method"
   ]
  }
 ],
 "metadata": {
  "kernelspec": {
   "display_name": "Python 3",
   "language": "python",
   "name": "python3"
  },
  "language_info": {
   "codemirror_mode": {
    "name": "ipython",
    "version": 3
   },
   "file_extension": ".py",
   "mimetype": "text/x-python",
   "name": "python",
   "nbconvert_exporter": "python",
   "pygments_lexer": "ipython3",
   "version": "3.9.7"
  }
 },
 "nbformat": 4,
 "nbformat_minor": 0
}
